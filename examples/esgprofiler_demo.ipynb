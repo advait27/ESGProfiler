{
 "cells": [
  {
   "cell_type": "markdown",
   "id": "623df897",
   "metadata": {},
   "source": [
    "# ESGProfiler Demo\n",
    "This notebook demonstrates basic usage of the esgprofiler package."
   ]
  },
  {
   "cell_type": "code",
   "execution_count": null,
   "id": "81e6a3ca",
   "metadata": {},
   "outputs": [],
   "source": [
    "# ESGProfiler Demo Notebook\n",
    "\n",
    "# Install requirements in notebook if not done already\n",
    "# !pip install -r ../requirements.txt\n",
    "# !python -m spacy download en_core_web_sm\n",
    "\n",
    "from esgprofiler.data_ingest import fetch_yahoo_profile, fetch_news_headlines\n",
    "from esgprofiler.nlp_extract import count_esg_mentions, summarize_esg_signals\n",
    "from esgprofiler.scoring import score_esg_text\n",
    "from esgprofiler.config import get_default_keywords\n",
    "\n",
    "# 1. Analyze Apple (AAPL) ESG profile\n",
    "ticker = \"AAPL\"\n",
    "\n",
    "print(\"Company profile from Yahoo Finance:\")\n",
    "profile = fetch_yahoo_profile(ticker)\n",
    "print(profile)\n",
    "\n",
    "print(\"\\nGetting recent ESG news headlines...\")\n",
    "news = fetch_news_headlines(ticker, pages=2)\n",
    "print(f\"Sample headline:\\n- {news[0]}\")\n",
    "\n",
    "# 2. ESG scoring\n",
    "text_corpus = \" \".join(news)\n",
    "config = get_default_keywords()\n",
    "results = score_esg_text(text_corpus, config)\n",
    "\n",
    "print(\"\\nESG Scores (from recent headlines):\")\n",
    "print(results)\n",
    "\n",
    "# 3. Extract sample key ESG sentences\n",
    "summary = summarize_esg_signals(text_corpus)\n",
    "print(\"\\nKey Environment Sentences:\")\n",
    "for s in summary[\"environment_sentences\"]:\n",
    "    print(\"-\", s)\n",
    "\n",
    "print(\"\\nKey Social Sentences:\")\n",
    "for s in summary[\"social_sentences\"]:\n",
    "    print(\"-\", s)\n",
    "\n",
    "print(\"\\nKey Governance Sentences:\")\n",
    "for s in summary[\"governance_sentences\"]:\n",
    "    print(\"-\", s)\n",
    "\n",
    "\n",
    "# Optional: Pandas DataFrame for analysis\n",
    "import pandas as pd\n",
    "scores_df = pd.DataFrame([results])\n",
    "print(\"\\nDataFrame of ESG Scores:\")\n",
    "print(scores_df)\n"
   ]
  }
 ],
 "metadata": {
  "language_info": {
   "name": "python"
  }
 },
 "nbformat": 4,
 "nbformat_minor": 5
}
